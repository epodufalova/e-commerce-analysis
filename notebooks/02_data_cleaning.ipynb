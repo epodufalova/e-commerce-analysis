{
 "cells": [
  {
   "cell_type": "code",
   "execution_count": 6,
   "id": "5f70e254-8c21-49a5-b2ba-af474287a2c5",
   "metadata": {},
   "outputs": [],
   "source": [
    "import sqlite3\n",
    "import pandas as pd"
   ]
  },
  {
   "cell_type": "code",
   "execution_count": 7,
   "id": "919f28e8",
   "metadata": {},
   "outputs": [],
   "source": [
    "conn = sqlite3.connect(r\"..\\data\\raw\\olist.sqlite\")"
   ]
  },
  {
   "cell_type": "code",
   "execution_count": 8,
   "id": "9f2f5221",
   "metadata": {},
   "outputs": [],
   "source": [
    "orders = pd.read_sql(\"SELECT * FROM orders;\", conn)\n",
    "customers = pd.read_sql(\"SELECT * FROM customers;\", conn)\n",
    "products = pd.read_sql(\"SELECT * FROM products;\", conn)\n",
    "order_items = pd.read_sql(\"SELECT * FROM order_items;\", conn)\n"
   ]
  },
  {
   "cell_type": "code",
   "execution_count": 9,
   "id": "7b684e60",
   "metadata": {},
   "outputs": [],
   "source": [
    "orders = orders.dropna(subset=[\"order_id\", \"customer_id\"])\n",
    "\n",
    "date_cols = [col for col in orders.columns if \"timestamp\" in col or \"date\" in col]\n",
    "for col in date_cols:\n",
    "    orders[col] = pd.to_datetime(orders[col], errors=\"coerce\")\n",
    "\n",
    "order_items[\"price\"] = order_items[\"price\"].fillna(0)\n",
    "order_items[\"freight_value\"] = order_items[\"freight_value\"].fillna(0)\n"
   ]
  },
  {
   "cell_type": "code",
   "execution_count": 10,
   "id": "0725ac96",
   "metadata": {},
   "outputs": [
    {
     "name": "stdout",
     "output_type": "stream",
     "text": [
      "Missing values after cleaning:\n",
      "order_id                            0\n",
      "customer_id                         0\n",
      "order_status                        0\n",
      "order_purchase_timestamp            0\n",
      "order_approved_at                 160\n",
      "order_delivered_carrier_date     1783\n",
      "order_delivered_customer_date    2965\n",
      "order_estimated_delivery_date       0\n",
      "dtype: int64\n",
      "order_id               0\n",
      "order_item_id          0\n",
      "product_id             0\n",
      "seller_id              0\n",
      "shipping_limit_date    0\n",
      "price                  0\n",
      "freight_value          0\n",
      "dtype: int64\n"
     ]
    }
   ],
   "source": [
    "print(\"Missing values after cleaning:\")\n",
    "print(orders.isnull().sum())\n",
    "print(order_items.isnull().sum())"
   ]
  },
  {
   "cell_type": "markdown",
   "id": "87b6ac20",
   "metadata": {},
   "source": [
    "### Handling Missing Values\n",
    "\n",
    "- **`order_approved_at` (160 missing):**  \n",
    "  These orders were purchased but never approved (likely canceled or failed payment).  \n",
    "  → Decision: Keep them, since they reflect real-world business cases.  \n",
    "\n",
    "- **`order_delivered_carrier_date` (1,783 missing):**  \n",
    "  The seller never handed the package to the carrier.  \n",
    "  → Decision: Keep them, mark as \"not delivered\" in later analysis.  \n",
    "\n",
    "- **`order_delivered_customer_date` (2,965 missing):**  \n",
    "  The package never reached the customer.  \n",
    "  → Decision: Keep them, as they provide useful information for analyzing delivery performance and cancellations.  \n",
    "\n",
    "- **`order_estimated_delivery_date` (0 missing):**  \n",
    "  Always filled, no action needed.  \n",
    "\n",
    "- **`order_items` table:**  \n",
    "  No missing values after cleaning.  \n",
    "\n",
    "**Summary:**  \n",
    "We did **not drop rows** with missing delivery/approval dates, since they are meaningful business events (canceled or failed deliveries).  \n",
    "For `price` and `freight_value`, missing values were replaced with `0`, assuming no charge.  \n",
    "This ensures the dataset remains realistic and ready for analysis without losing important information.\n"
   ]
  },
  {
   "cell_type": "code",
   "execution_count": 11,
   "id": "8a085558",
   "metadata": {},
   "outputs": [],
   "source": [
    "orders[\"order_id\"] = orders[\"order_id\"].astype(str)\n",
    "customers[\"customer_id\"] = customers[\"customer_id\"].astype(str)\n",
    "products[\"product_id\"] = products[\"product_id\"].astype(str)\n",
    "\n",
    "order_items[\"price\"] = order_items[\"price\"].astype(float)\n",
    "order_items[\"freight_value\"] = order_items[\"freight_value\"].astype(float)\n"
   ]
  },
  {
   "cell_type": "code",
   "execution_count": 12,
   "id": "e34f6d16",
   "metadata": {},
   "outputs": [],
   "source": [
    "orders = orders.drop_duplicates(subset=\"order_id\")\n",
    "customers = customers.drop_duplicates(subset=\"customer_id\")\n",
    "products = products.drop_duplicates(subset=\"product_id\")\n",
    "order_items = order_items.drop_duplicates(subset=[\"order_id\", \"order_item_id\"])"
   ]
  },
  {
   "cell_type": "code",
   "execution_count": 13,
   "id": "0c514c40",
   "metadata": {},
   "outputs": [],
   "source": [
    "orders[\"order_month\"] = orders[\"order_purchase_timestamp\"].dt.to_period(\"M\")\n",
    "orders[\"order_weekday\"] = orders[\"order_purchase_timestamp\"].dt.day_name()\n",
    "\n",
    "order_values = (\n",
    "    order_items.groupby(\"order_id\")\n",
    "    .agg(order_value=(\"price\", \"sum\"), freight=(\"freight_value\", \"sum\"))\n",
    "    .reset_index()\n",
    ")\n",
    "order_values[\"order_total\"] = order_values[\"order_value\"] + order_values[\"freight\"]\n"
   ]
  },
  {
   "cell_type": "code",
   "execution_count": 14,
   "id": "a0c006f8",
   "metadata": {},
   "outputs": [
    {
     "name": "stdout",
     "output_type": "stream",
     "text": [
      "Main dataset shape: (99441, 17)\n",
      "                           order_id                       customer_id  \\\n",
      "0  e481f51cbdc54678b7cc49136f2d6af7  9ef432eb6251297304e76186b10a928d   \n",
      "1  53cdb2fc8bc7dce0b6741e2150273451  b0830fb4747a6c6d20dea0b8c802d7ef   \n",
      "2  47770eb9100c2d0c44946d9cf07ec65d  41ce2a54c0b03bf3443c3d931a367089   \n",
      "3  949d5b44dbf5de918fe9c16f97b45f8a  f88197465ea7920adcdbec7375364d82   \n",
      "4  ad21c59c0840e6cb83a9ceb5573f8159  8ab97904e6daea8866dbdbc4fb7aad2c   \n",
      "\n",
      "  order_status order_purchase_timestamp    order_approved_at  \\\n",
      "0    delivered      2017-10-02 10:56:33  2017-10-02 11:07:15   \n",
      "1    delivered      2018-07-24 20:41:37  2018-07-26 03:24:27   \n",
      "2    delivered      2018-08-08 08:38:49  2018-08-08 08:55:23   \n",
      "3    delivered      2017-11-18 19:28:06  2017-11-18 19:45:59   \n",
      "4    delivered      2018-02-13 21:18:39  2018-02-13 22:20:29   \n",
      "\n",
      "  order_delivered_carrier_date order_delivered_customer_date  \\\n",
      "0          2017-10-04 19:55:00           2017-10-10 21:25:13   \n",
      "1          2018-07-26 14:31:00           2018-08-07 15:27:45   \n",
      "2          2018-08-08 13:50:00           2018-08-17 18:06:29   \n",
      "3          2017-11-22 13:39:59           2017-12-02 00:28:42   \n",
      "4          2018-02-14 19:46:34           2018-02-16 18:17:02   \n",
      "\n",
      "  order_estimated_delivery_date order_month order_weekday  \\\n",
      "0                    2017-10-18     2017-10        Monday   \n",
      "1                    2018-08-13     2018-07       Tuesday   \n",
      "2                    2018-09-04     2018-08     Wednesday   \n",
      "3                    2017-12-15     2017-11      Saturday   \n",
      "4                    2018-02-26     2018-02       Tuesday   \n",
      "\n",
      "                 customer_unique_id  customer_zip_code_prefix  \\\n",
      "0  7c396fd4830fd04220f754e42b4e5bff                      3149   \n",
      "1  af07308b275d755c9edb36a90c618231                     47813   \n",
      "2  3a653a41f6f9fc3d2a113cf8398680e8                     75265   \n",
      "3  7c142cf63193a1473d2e66489a9ae977                     59296   \n",
      "4  72632f0f9dd73dfee390c9b22eb56dd6                      9195   \n",
      "\n",
      "             customer_city customer_state  order_value  freight  order_total  \n",
      "0                sao paulo             SP        29.99     8.72        38.71  \n",
      "1                barreiras             BA       118.70    22.76       141.46  \n",
      "2               vianopolis             GO       159.90    19.22       179.12  \n",
      "3  sao goncalo do amarante             RN        45.00    27.20        72.20  \n",
      "4              santo andre             SP        19.90     8.72        28.62  \n"
     ]
    }
   ],
   "source": [
    "main = (\n",
    "    orders\n",
    "    .merge(customers, on=\"customer_id\", how=\"left\")\n",
    "    .merge(order_values, on=\"order_id\", how=\"left\")\n",
    ")\n",
    "\n",
    "print(\"Main dataset shape:\", main.shape)\n",
    "print(main.head())"
   ]
  },
  {
   "cell_type": "code",
   "execution_count": 15,
   "id": "0d21e590",
   "metadata": {},
   "outputs": [],
   "source": [
    "orders.to_csv(\"../data/processed/clean_orders.csv\", index=False)\n",
    "customers.to_csv(\"../data/processed/clean_customers.csv\", index=False)\n",
    "products.to_csv(\"../data/processed/clean_products.csv\", index=False)\n",
    "order_items.to_csv(\"../data/processed/clean_order_items.csv\", index=False)\n",
    "main.to_csv(\"../data/processed/clean_main_dataset.csv\", index=False)"
   ]
  }
 ],
 "metadata": {
  "kernelspec": {
   "display_name": "Python 3",
   "language": "python",
   "name": "python3"
  },
  "language_info": {
   "codemirror_mode": {
    "name": "ipython",
    "version": 3
   },
   "file_extension": ".py",
   "mimetype": "text/x-python",
   "name": "python",
   "nbconvert_exporter": "python",
   "pygments_lexer": "ipython3",
   "version": "3.11.5"
  }
 },
 "nbformat": 4,
 "nbformat_minor": 5
}
